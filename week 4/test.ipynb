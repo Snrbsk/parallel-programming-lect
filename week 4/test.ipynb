{
 "cells": [
  {
   "cell_type": "code",
   "execution_count": 1,
   "metadata": {},
   "outputs": [
    {
     "name": "stdout",
     "output_type": "stream",
     "text": [
      "Before d1\n",
      "Before d1\n",
      "test\n",
      "After d1\n",
      "After d1\n"
     ]
    }
   ],
   "source": [
    "def d1(fn):\n",
    "    def _d1():\n",
    "        print(\"Before d1\")\n",
    "        fn()\n",
    "        print(\"After d1\")\n",
    "    return _d1\n",
    "\n",
    "\n",
    "@d1\n",
    "@d1\n",
    "def f1():\n",
    "    print(\"test\")\n",
    "\n",
    "f1()\n",
    "\n"
   ]
  },
  {
   "cell_type": "code",
   "execution_count": 9,
   "metadata": {},
   "outputs": [
    {
     "name": "stdout",
     "output_type": "stream",
     "text": [
      "This is a decorator\n",
      "('Soner Başak',)\n",
      "{}\n",
      "x = Soner Başak\n"
     ]
    }
   ],
   "source": [
    "def decorator(func):\n",
    "    def _decorator(*args, **kwargs):\n",
    "        print(\"This is a decorator\")\n",
    "        print(args)\n",
    "        print(kwargs)\n",
    "        func(*args, **kwargs)\n",
    "    return _decorator\n",
    "    \n",
    "\n",
    "@decorator\n",
    "def decorator_func(x):\n",
    "    print(f\"x = {x}\")\n",
    "\n",
    "decorator_func(\"Soner Başak\")"
   ]
  },
  {
   "cell_type": "code",
   "execution_count": 44,
   "metadata": {},
   "outputs": [],
   "source": [
    "custom_power = lambda x=0,/,e=1 : x**e\n",
    "\"\"\"\n",
    "This lambda function calculates the power of a number.\n",
    "\n",
    ":param x: The base number (default is 0, positional-only).\n",
    ":param e: The exponent (default is 1).\n",
    ":return: The result of x raised to the power of e.\n",
    "\"\"\"\n",
    "\n",
    "def custom_equation(x=0, y=0 ,/, a=1, b=1, *, c=1):\n",
    "    \"\"\"\n",
    "    This function calculates the result of (x raised to the power of a) plus (y raised to the power of b),\n",
    "    divided by c.\n",
    "\n",
    "    :param x: The first number (default is 0, positional-only).\n",
    "    :param y: The second number (default is 0, positional-only).\n",
    "    :param a: The exponent for x (default is 1).\n",
    "    :param b: The exponent for y (default is 1).\n",
    "    :param c: The divisor (default is 1, keyword-only).\n",
    "    :return: The result of (x**a + y**b) / c.\n",
    "    \"\"\"\n",
    "    return (x**a + y**b) / c\n",
    "\n",
    "\n",
    "counter = {}\n",
    "total_calls = 0\n",
    "\n",
    "def fn_w_counter():\n",
    "    \"\"\"\n",
    "    Tracks the number of calls and caller information.\n",
    "\n",
    "    :return: A tuple with the total call count and a dictionary\n",
    "             of caller names and their call counts.\n",
    "    \"\"\"\n",
    "    global total_calls\n",
    "    total_calls += 1\n",
    "    counter[__name__] = counter.get(__name__, 0) + 1\n",
    "    return total_calls, counter\n",
    "\n",
    "# Örnek kullanım\n",
    "for _ in range(10):\n",
    "    fn_w_counter()"
   ]
  }
 ],
 "metadata": {
  "kernelspec": {
   "display_name": "Python 3",
   "language": "python",
   "name": "python3"
  },
  "language_info": {
   "codemirror_mode": {
    "name": "ipython",
    "version": 3
   },
   "file_extension": ".py",
   "mimetype": "text/x-python",
   "name": "python",
   "nbconvert_exporter": "python",
   "pygments_lexer": "ipython3",
   "version": "3.12.3"
  }
 },
 "nbformat": 4,
 "nbformat_minor": 2
}
